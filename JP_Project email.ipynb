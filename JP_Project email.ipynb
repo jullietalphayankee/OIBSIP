{
 "cells": [
  {
   "cell_type": "markdown",
   "id": "73deeaca",
   "metadata": {},
   "source": [
    "# Importing Libraries"
   ]
  },
  {
   "cell_type": "code",
   "execution_count": 22,
   "id": "c2ef81de",
   "metadata": {},
   "outputs": [],
   "source": [
    "import numpy as np\n",
    "import pandas as pd\n",
    "import matplotlib.pyplot as plt\n",
    "import seaborn as sns\n",
    "\n",
    "from nltk.tokenize import word_tokenize\n",
    "from nltk.corpus import stopwords\n",
    "stop_words = set(stopwords.words('english'))\n",
    "from nltk.stem import WordNetLemmatizer\n",
    "wordnet_lemmatizer = WordNetLemmatizer()\n",
    "from sklearn.feature_extraction.text import CountVectorizer\n",
    "vectorizer = CountVectorizer()\n",
    "\n",
    "from imblearn.over_sampling import SMOTE\n",
    "oversampling = SMOTE()\n",
    "from sklearn.model_selection import train_test_split\n",
    "from sklearn.linear_model import LogisticRegression\n",
    "from sklearn.metrics import confusion_matrix, ConfusionMatrixDisplay, precision_recall_fscore_support, roc_curve, auc\n",
    "\n",
    "import warnings\n",
    "warnings.filterwarnings('ignore')"
   ]
  },
  {
   "cell_type": "markdown",
   "id": "6950d96f",
   "metadata": {},
   "source": [
    "# Reading the CSV File"
   ]
  },
  {
   "cell_type": "code",
   "execution_count": 15,
   "id": "1edac5c0",
   "metadata": {},
   "outputs": [
    {
     "data": {
      "text/html": [
       "<div>\n",
       "<style scoped>\n",
       "    .dataframe tbody tr th:only-of-type {\n",
       "        vertical-align: middle;\n",
       "    }\n",
       "\n",
       "    .dataframe tbody tr th {\n",
       "        vertical-align: top;\n",
       "    }\n",
       "\n",
       "    .dataframe thead th {\n",
       "        text-align: right;\n",
       "    }\n",
       "</style>\n",
       "<table border=\"1\" class=\"dataframe\">\n",
       "  <thead>\n",
       "    <tr style=\"text-align: right;\">\n",
       "      <th></th>\n",
       "      <th>spam</th>\n",
       "      <th>email_text</th>\n",
       "      <th>Unnamed: 2</th>\n",
       "      <th>Unnamed: 3</th>\n",
       "      <th>Unnamed: 4</th>\n",
       "    </tr>\n",
       "  </thead>\n",
       "  <tbody>\n",
       "    <tr>\n",
       "      <th>0</th>\n",
       "      <td>ham</td>\n",
       "      <td>Go until jurong point, crazy.. Available only ...</td>\n",
       "      <td>NaN</td>\n",
       "      <td>NaN</td>\n",
       "      <td>NaN</td>\n",
       "    </tr>\n",
       "    <tr>\n",
       "      <th>1</th>\n",
       "      <td>ham</td>\n",
       "      <td>Ok lar... Joking wif u oni...</td>\n",
       "      <td>NaN</td>\n",
       "      <td>NaN</td>\n",
       "      <td>NaN</td>\n",
       "    </tr>\n",
       "    <tr>\n",
       "      <th>2</th>\n",
       "      <td>spam</td>\n",
       "      <td>Free entry in 2 a wkly comp to win FA Cup fina...</td>\n",
       "      <td>NaN</td>\n",
       "      <td>NaN</td>\n",
       "      <td>NaN</td>\n",
       "    </tr>\n",
       "    <tr>\n",
       "      <th>3</th>\n",
       "      <td>ham</td>\n",
       "      <td>U dun say so early hor... U c already then say...</td>\n",
       "      <td>NaN</td>\n",
       "      <td>NaN</td>\n",
       "      <td>NaN</td>\n",
       "    </tr>\n",
       "    <tr>\n",
       "      <th>4</th>\n",
       "      <td>ham</td>\n",
       "      <td>Nah I don't think he goes to usf, he lives aro...</td>\n",
       "      <td>NaN</td>\n",
       "      <td>NaN</td>\n",
       "      <td>NaN</td>\n",
       "    </tr>\n",
       "  </tbody>\n",
       "</table>\n",
       "</div>"
      ],
      "text/plain": [
       "   spam                                         email_text Unnamed: 2  \\\n",
       "0   ham  Go until jurong point, crazy.. Available only ...        NaN   \n",
       "1   ham                      Ok lar... Joking wif u oni...        NaN   \n",
       "2  spam  Free entry in 2 a wkly comp to win FA Cup fina...        NaN   \n",
       "3   ham  U dun say so early hor... U c already then say...        NaN   \n",
       "4   ham  Nah I don't think he goes to usf, he lives aro...        NaN   \n",
       "\n",
       "  Unnamed: 3 Unnamed: 4  \n",
       "0        NaN        NaN  \n",
       "1        NaN        NaN  \n",
       "2        NaN        NaN  \n",
       "3        NaN        NaN  \n",
       "4        NaN        NaN  "
      ]
     },
     "execution_count": 15,
     "metadata": {},
     "output_type": "execute_result"
    }
   ],
   "source": [
    "df = pd.read_csv('spam.csv', encoding='latin1')\n",
    "df.head()"
   ]
  },
  {
   "cell_type": "markdown",
   "id": "e6e2b407",
   "metadata": {},
   "source": [
    "# Checking for Class Imbalance"
   ]
  },
  {
   "cell_type": "code",
   "execution_count": 18,
   "id": "0d3cd11e",
   "metadata": {},
   "outputs": [
    {
     "data": {
      "text/plain": [
       "[]"
      ]
     },
     "execution_count": 18,
     "metadata": {},
     "output_type": "execute_result"
    },
    {
     "data": {
      "image/png": "[encoded data removed]",
      "text/plain": [
       "<Figure size 432x288 with 1 Axes>"
      ]
     },
     "metadata": {
      "needs_background": "light"
     },
     "output_type": "display_data"
    }
   ],
   "source": [
    "sns.countplot(data=df,x='spam')\n",
    "plt.plot()"
   ]
  },
  {
   "cell_type": "markdown",
   "id": "59ee74d8",
   "metadata": {},
   "source": [
    "# Only using the important columns"
   ]
  },
  {
   "cell_type": "code",
   "execution_count": 16,
   "id": "f2864822",
   "metadata": {},
   "outputs": [],
   "source": [
    "df = df[['spam','email_text']]"
   ]
  },
  {
   "cell_type": "markdown",
   "id": "8dcaf38e",
   "metadata": {},
   "source": [
    "# Using Tokenization, Stop words removal, Lemmatization to clean text"
   ]
  },
  {
   "cell_type": "markdown",
   "id": "8e985f30",
   "metadata": {},
   "source": [
    "# Then using Count Vectoriser to create features"
   ]
  },
  {
   "cell_type": "code",
   "execution_count": 24,
   "id": "e383021b",
   "metadata": {},
   "outputs": [],
   "source": [
    "def listToString(s):\n",
    "    str1 = \" \"\n",
    "    return (str1.join(s))\n",
    "\n",
    "def text_preprocess(text):\n",
    "    tokens = word_tokenize(text)\n",
    "    tokens_lemmatized = [wordnet_lemmatizer.lemmatize(w) for w in tokens if not w.lower() in stop_words]\n",
    "    sentence = listToString(tokens_lemmatized)\n",
    "    return sentence\n",
    "\n",
    "df['email_text'] = df['email_text'].apply(text_preprocess)\n",
    "vector = vectorizer.fit_transform(df['email_text'])\n",
    "x = pd.DataFrame(vector.toarray(),columns = vectorizer.get_feature_names_out())\n",
    "y = df['spam'].replace({'ham': 0,'spam': 1})"
   ]
  },
  {
   "cell_type": "markdown",
   "id": "8c3a2725",
   "metadata": {},
   "source": [
    "# Using Oversampling to fix Class Imbalance\n",
    "# Then using Logistic Regression model for prediction"
   ]
  },
  {
   "cell_type": "code",
   "execution_count": 25,
   "id": "0e82874a",
   "metadata": {},
   "outputs": [
    {
     "name": "stdout",
     "output_type": "stream",
     "text": [
      "Precision: 0.9665991902834008\n",
      "Recall: 0.9896373056994818\n",
      "fscore: 0.9779825908858167\n"
     ]
    },
    {
     "data": {
      "image/png": "[encoded data removed]",
      "text/plain": [
       "<Figure size 432x288 with 2 Axes>"
      ]
     },
     "metadata": {
      "needs_background": "light"
     },
     "output_type": "display_data"
    }
   ],
   "source": [
    "x_oversample, y_oversample = oversampling.fit_resample(x, y)\n",
    "x_train,x_test,y_train,y_test = train_test_split(x_oversample,y_oversample,\n",
    "                                                 test_size=0.2,random_state=42,stratify=y_oversample)\n",
    "model = LogisticRegression(penalty='none')\n",
    "model.fit(x_train, y_train)\n",
    "y_pred = model.predict(x_test)\n",
    "precision,recall,fscore, _ = precision_recall_fscore_support(y_test, y_pred,average='binary')\n",
    "\n",
    "print(f'Precision: {precision}')\n",
    "print(f'Recall: {recall}')\n",
    "print(f'fscore: {fscore}')\n",
    "\n",
    "cm = confusion_matrix(y_test,y_pred,labels=model.classes_)\n",
    "disp = ConfusionMatrixDisplay(confusion_matrix=cm,display_labels=model.classes_)\n",
    "disp.plot()\n",
    "plt.show()"
   ]
  },
  {
   "cell_type": "markdown",
   "id": "c53c707f",
   "metadata": {},
   "source": [
    "# We achieve an overall accuracy of 96.6%"
   ]
  }
 ],
 "metadata": {
  "kernelspec": {
   "display_name": "Python 3 (ipykernel)",
   "language": "python",
   "name": "python3"
  },
  "language_info": {
   "codemirror_mode": {
    "name": "ipython",
    "version": 3
   },
   "file_extension": ".py",
   "mimetype": "text/x-python",
   "name": "python",
   "nbconvert_exporter": "python",
   "pygments_lexer": "ipython3",
   "version": "3.9.12"
  }
 },
 "nbformat": 4,
 "nbformat_minor": 5
}
